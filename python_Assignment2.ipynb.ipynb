{
  "nbformat": 4,
  "nbformat_minor": 0,
  "metadata": {
    "colab": {
      "provenance": []
    },
    "kernelspec": {
      "name": "python3",
      "display_name": "Python 3"
    },
    "language_info": {
      "name": "python"
    }
  },
  "cells": [
    {
      "cell_type": "code",
      "source": [
        "# Function to greet a person with a message, default greeting is \"Hello\"\n",
        "def greet(name, greeting=\"Hello\"):\n",
        "    # Combines greeting and name into a single string and returns it\n",
        "    return f\"{greeting} {name}\"\n",
        "\n",
        "# Example usage\n",
        "# Calling the function with just the name, default greeting \"Hello\" is used\n",
        "print(greet(\"utkarsh\"))\n",
        "\n",
        "# Calling the function with a custom greeting \"Good Morning\"\n",
        "print(greet(\"singh\", \"Good Morning\"))\n"
      ],
      "metadata": {
        "colab": {
          "base_uri": "https://localhost:8080/"
        },
        "id": "9HgbVpwJiv7L",
        "outputId": "b73f1e6b-2dca-4ddd-af10-c1c474db77ac"
      },
      "execution_count": null,
      "outputs": [
        {
          "output_type": "stream",
          "name": "stdout",
          "text": [
            "Hello utkarsh\n",
            "Good Morning singh\n"
          ]
        }
      ]
    },
    {
      "cell_type": "code",
      "source": [
        "# Function to create a profile using named arguments with default values\n",
        "def create_profile(name, age=18, city=\"Unknown\"):\n",
        "    # Returns a formatted string with name, age, and city\n",
        "    return f\"Name: {name}, Age: {age}, City: {city}\"\n",
        "\n",
        "# Example usage\n",
        "# Calling the function with name and city, default age is used\n",
        "print(create_profile(name=\"abc\", city=\"banglore\"))\n",
        "\n",
        "# Calling the function with name, age, and city, all values are provided\n",
        "print(create_profile(name=\"xyz\", age=22, city=\"mumbai\"))\n"
      ],
      "metadata": {
        "colab": {
          "base_uri": "https://localhost:8080/"
        },
        "id": "8JxTIDb7m_V2",
        "outputId": "b82f169f-7c58-4eeb-bc9f-17eb32ddbe51"
      },
      "execution_count": null,
      "outputs": [
        {
          "output_type": "stream",
          "name": "stdout",
          "text": [
            "Name: abc, Age: 18, City: banglore\n",
            "Name: xyz, Age: 22, City: mumbai\n"
          ]
        }
      ]
    },
    {
      "cell_type": "code",
      "source": [
        "# Function to sum numbers passed as *args\n",
        "# *args collects positional arguments (numbers)\n",
        "# kwargs collects keyword arguments as a dictionary\n",
        "def sum_numbers(*args, **kwargs):\n",
        "    # Sum only the numerical *args (integers and floats)\n",
        "    sum_args = sum(arg for arg in args if isinstance(arg, (int, float)))\n",
        "    # Return the sum and any keyword arguments passed\n",
        "    return sum_args, kwargs\n",
        "\n",
        "# Example usage\n",
        "print(sum_numbers(1, 2, 3))\n",
        "print(sum_numbers(1, 2, x=4, y=5))\n"
      ],
      "metadata": {
        "id": "zs4IsUfNngGQ",
        "colab": {
          "base_uri": "https://localhost:8080/"
        },
        "outputId": "f1343459-bf3f-4215-9c33-727cf3daa9d5"
      },
      "execution_count": 6,
      "outputs": [
        {
          "output_type": "stream",
          "name": "stdout",
          "text": [
            "(6, {})\n",
            "(3, {'x': 4, 'y': 5})\n"
          ]
        }
      ]
    },
    {
      "cell_type": "code",
      "source": [
        "# Function that takes a list and returns a new list with each element squared\n",
        "# Uses map along with a lambda function for squaring\n",
        "def square_list(lst):\n",
        "    return list(map(lambda x: x**2, lst))\n",
        "\n",
        "# Example usage\n",
        "print(square_list([1, 2, 3, 4]))\n"
      ],
      "metadata": {
        "colab": {
          "base_uri": "https://localhost:8080/"
        },
        "id": "tx14Le6grnVW",
        "outputId": "eac49623-e876-4fc0-e86c-ab9a32b2c301"
      },
      "execution_count": 9,
      "outputs": [
        {
          "output_type": "stream",
          "name": "stdout",
          "text": [
            "[1, 4, 9, 16]\n"
          ]
        }
      ]
    },
    {
      "cell_type": "code",
      "source": [
        "# Function that filters out odd numbers from a list\n",
        "# Uses filter along with a lambda function to keep only even numbers\n",
        "def filter_odd_numbers(lst):\n",
        "    return list(filter(lambda x: x % 2 == 0, lst))\n",
        "\n",
        "# Example usage\n",
        "print(filter_odd_numbers([1, 2, 3, 4, 5]))\n"
      ],
      "metadata": {
        "colab": {
          "base_uri": "https://localhost:8080/"
        },
        "id": "xZiouk6-sAcE",
        "outputId": "cac6049c-d0be-439a-f513-db084e4f8c15"
      },
      "execution_count": 10,
      "outputs": [
        {
          "output_type": "stream",
          "name": "stdout",
          "text": [
            "[2, 4]\n"
          ]
        }
      ]
    },
    {
      "cell_type": "code",
      "source": [
        "# List comprehension that generates a list of squares of numbers from 0 to 4\n",
        "squares = [x**2 for x in range(5)]\n",
        "\n",
        "# Example usage\n",
        "print(squares)\n"
      ],
      "metadata": {
        "colab": {
          "base_uri": "https://localhost:8080/"
        },
        "id": "khbfQtsbsmK8",
        "outputId": "9cac0008-2897-4a75-8ec2-26b116e94332"
      },
      "execution_count": 11,
      "outputs": [
        {
          "output_type": "stream",
          "name": "stdout",
          "text": [
            "[0, 1, 4, 9, 16]\n"
          ]
        }
      ]
    },
    {
      "cell_type": "code",
      "source": [
        "# List comprehension that creates a list of even numbers from 1 to 20\n",
        "even_numbers = [x for x in range(1, 21) if x % 2 == 0]\n",
        "\n",
        "# Example usage\n",
        "print(even_numbers)\n"
      ],
      "metadata": {
        "colab": {
          "base_uri": "https://localhost:8080/"
        },
        "id": "HVUB1YcpyE58",
        "outputId": "994ec2f9-d5ce-4ae1-b21e-e85cf1638c5f"
      },
      "execution_count": 12,
      "outputs": [
        {
          "output_type": "stream",
          "name": "stdout",
          "text": [
            "[2, 4, 6, 8, 10, 12, 14, 16, 18, 20]\n"
          ]
        }
      ]
    },
    {
      "cell_type": "code",
      "source": [
        "import os\n",
        "import time\n",
        "\n",
        "# Function that creates a folder, pauses for 3 seconds, and then deletes the folder\n",
        "def file_operations():\n",
        "    os.makedirs(\"test_folder\")  # Creates a new folder named \"test_folder\"\n",
        "    time.sleep(3)  # Pauses the program for 3 seconds\n",
        "    os.rmdir(\"test_folder\")  # Deletes the \"test_folder\"\n",
        "\n",
        "# Example usage\n",
        "file_operations()  # Creates a folder, pauses for 3 seconds, and deletes it\n"
      ],
      "metadata": {
        "id": "yIRtafEjyKzN"
      },
      "execution_count": 13,
      "outputs": []
    },
    {
      "cell_type": "code",
      "source": [
        "# Importing the sleep function from the time module and renaming it to 'pause'\n",
        "from time import sleep as pause\n",
        "\n",
        "# Example usage\n",
        "pause(2)  # Pauses execution for 2 seconds\n",
        "print(\"Paused execution...\")  # Prints a message after the pause\n"
      ],
      "metadata": {
        "colab": {
          "base_uri": "https://localhost:8080/"
        },
        "id": "U7a79MNayPxN",
        "outputId": "0091bf92-ae30-4e79-c244-17b9643de4cb"
      },
      "execution_count": 14,
      "outputs": [
        {
          "output_type": "stream",
          "name": "stdout",
          "text": [
            "Paused execution...\n"
          ]
        }
      ]
    },
    {
      "cell_type": "code",
      "source": [
        "# Recursive function that flattens a nested list structure into a single list\n",
        "def flatten_list(nested_list):\n",
        "    flat_list = []  # Initialize an empty list to store flattened elements\n",
        "    for item in nested_list:  # Iterate through each item in the nested list\n",
        "        if isinstance(item, list):  # Check if the item is a list\n",
        "            flat_list.extend(flatten_list(item))  # Recursively flatten it and extend the flat list\n",
        "        else:\n",
        "            flat_list.append(item)  # If not a list, add the item to the flat list\n",
        "    return flat_list  # Return the flattened list\n",
        "\n",
        "# Example usage\n",
        "print(flatten_list([1, [2, 3], [[4, 5], 6]]))\n",
        "print(flatten_list([[1, 2], [3, [4, [5]]]]))\n"
      ],
      "metadata": {
        "colab": {
          "base_uri": "https://localhost:8080/"
        },
        "id": "Hcjo23koyS-i",
        "outputId": "356e5d39-c238-46cf-e04b-184854182d0b"
      },
      "execution_count": 15,
      "outputs": [
        {
          "output_type": "stream",
          "name": "stdout",
          "text": [
            "[1, 2, 3, 4, 5, 6]\n",
            "[1, 2, 3, 4, 5]\n"
          ]
        }
      ]
    }
  ]
}