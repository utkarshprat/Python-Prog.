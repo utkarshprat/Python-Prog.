{
 "cells": [
  {
   "cell_type": "code",
   "execution_count": 1,
   "id": "9cf3f6e4-50da-493b-b9d7-cc87b2295e98",
   "metadata": {},
   "outputs": [
    {
     "name": "stdout",
     "output_type": "stream",
     "text": [
      "Name: Utkarsh Pratap Singh\n",
      "Course: Python Programming\n",
      "Python version\n",
      "3.11.5 | packaged by Anaconda, Inc. | (main, Sep 11 2023, 13:26:23) [MSC v.1916 64 bit (AMD64)]\n"
     ]
    }
   ],
   "source": [
    "# Replace these values with your actual name and course name\n",
    "import sys\n",
    "name = \"Utkarsh Pratap Singh\"\n",
    "course_name = \"Python Programming\"\n",
    "# Print the information\n",
    "print(f\"Name: {name}\")\n",
    "print(f\"Course: {course_name}\")\n",
    "print(\"Python version\")\n",
    "print(sys.version)"
   ]
  },
  {
   "cell_type": "code",
   "execution_count": 2,
   "id": "239fcfde-371a-4e52-b037-045761140a5d",
   "metadata": {},
   "outputs": [
    {
     "name": "stdout",
     "output_type": "stream",
     "text": [
      "hello!\n"
     ]
    }
   ],
   "source": [
    "print(\"hello!\")"
   ]
  },
  {
   "cell_type": "code",
   "execution_count": 3,
   "id": "86fba4cd-7d42-4856-9baf-851eb8fccf2e",
   "metadata": {},
   "outputs": [],
   "source": [
    "#part 2 "
   ]
  },
  {
   "cell_type": "code",
   "execution_count": 4,
   "id": "9fa1a77c-f16c-4d2e-95fc-f50d95a68c47",
   "metadata": {},
   "outputs": [
    {
     "name": "stdout",
     "output_type": "stream",
     "text": [
      "first name: utkarsh\n",
      "your last name: pratap\n",
      "Your name in reverse order is: Pratap Utkarsh\n"
     ]
    }
   ],
   "source": [
    "#Write a Python program that takes a user's first and last name as input and prints them in reverse order with a space between them.\n",
    "#Use at least two string methods and explain their purpose in the comments.\n",
    "# Prompt the user to enter their first and last name\n",
    "first_name = input(\"first name: \")\n",
    "last_name = input(\"your last name: \")\n",
    "\n",
    "# Strip any leading/trailing whitespace from the input\n",
    "first_name = first_name.strip()\n",
    "last_name = last_name.strip()\n",
    "\n",
    "# Capitalize the first letter of each name and make the rest lowercase\n",
    "first_name = first_name.capitalize()\n",
    "last_name = last_name.capitalize()\n",
    "\n",
    "# Reverse the order of the names and concatenate them with a space in between\n",
    "reversed_name = last_name + \" \" + first_name\n",
    "\n",
    "# Print the reversed name\n",
    "print(\"Your name in reverse order is:\", reversed_name)\n"
   ]
  },
  {
   "cell_type": "code",
   "execution_count": 5,
   "id": "2c40c3a9-6fe4-477a-bbdb-f6fa6f78d40b",
   "metadata": {},
   "outputs": [],
   "source": [
    "#numeric datatypes and conversion functions"
   ]
  },
  {
   "cell_type": "code",
   "execution_count": 6,
   "id": "588adb4c-6355-418f-99eb-2500e6c702c2",
   "metadata": {},
   "outputs": [
    {
     "name": "stdout",
     "output_type": "stream",
     "text": [
      "Enter a number: 5\n",
      "Integer: 5\n",
      "Float: 5.0\n",
      "Complex: (5+0j)\n"
     ]
    }
   ],
   "source": [
    "#Write a Python program that takes an input number from the user, converts it to different numeric data types (integer, float, and complex), \n",
    "#and displays the converted values. \n",
    "#Explain the difference between these data types in comments.\n",
    "# Prompt the user to enter a number\n",
    "user_input = input(\"Enter a number: \")\n",
    "\n",
    "# Convert the input to different numeric data types\n",
    "\n",
    "# Convert to integer (int)\n",
    "# The int type represents whole numbers without any decimal part\n",
    "integer_value = int(user_input)\n",
    "\n",
    "# Convert to float\n",
    "# The float type represents real numbers with a decimal point\n",
    "float_value = float(user_input)\n",
    "\n",
    "# Convert to complex\n",
    "# The complex type represents complex numbers, which include a real part and an imaginary part\n",
    "# The imaginary part is denoted by 'j' in Python\n",
    "complex_value = complex(user_input)\n",
    "\n",
    "# Display the converted values\n",
    "print(f\"Integer: {integer_value}\")\n",
    "print(f\"Float: {float_value}\")\n",
    "print(f\"Complex: {complex_value}\")\n"
   ]
  },
  {
   "cell_type": "code",
   "execution_count": 7,
   "id": "1fc112de-fa3b-41d1-b587-2074be03306f",
   "metadata": {},
   "outputs": [],
   "source": [
    "# simple input and output"
   ]
  },
  {
   "cell_type": "code",
   "execution_count": 8,
   "id": "37bbcbf6-ef7f-409b-9a40-8700ff4e3862",
   "metadata": {},
   "outputs": [
    {
     "name": "stdout",
     "output_type": "stream",
     "text": [
      "Enter the length of the rectangle: 5\n",
      "Enter the width of the rectangle: 5\n",
      "The area of the rectangle is: 25.0\n"
     ]
    }
   ],
   "source": [
    "#Create a Python script that calculates the area of a rectangle. The script should:\n",
    "#- Prompt the user to enter the length and width of the rectangle.\n",
    "#- Calculate the area.\n",
    "#- Display the result using the print function.\n",
    "# Prompt the user to enter the length of the rectangle\n",
    "length = float(input(\"Enter the length of the rectangle: \"))\n",
    "\n",
    "# Prompt the user to enter the width of the rectangle\n",
    "width = float(input(\"Enter the width of the rectangle: \"))\n",
    "\n",
    "# Calculate the area of the rectangle\n",
    "area = length * width\n",
    "\n",
    "# Display the result\n",
    "print(f\"The area of the rectangle is: {area}\")\n"
   ]
  },
  {
   "cell_type": "code",
   "execution_count": 9,
   "id": "a6610b09-d714-4346-8d73-98462f624603",
   "metadata": {},
   "outputs": [],
   "source": [
    "# usinf format method"
   ]
  },
  {
   "cell_type": "code",
   "execution_count": 10,
   "id": "c3c7c60a-86a7-43ff-bac2-a805c6b4977f",
   "metadata": {},
   "outputs": [
    {
     "name": "stdout",
     "output_type": "stream",
     "text": [
      "Enter the length of the rectangle: 5\n",
      "Enter the width of the rectangle: 5\n",
      "The area of the rectangle is: 25.00\n"
     ]
    }
   ],
   "source": [
    "#Modify the rectangle area program to format the output so that it displays the area with two decimal places.\n",
    "# Prompt the user to enter the length of the rectangle\n",
    "length = float(input(\"Enter the length of the rectangle: \"))\n",
    "\n",
    "# Prompt the user to enter the width of the rectangle\n",
    "width = float(input(\"Enter the width of the rectangle: \"))\n",
    "\n",
    "# Calculate the area of the rectangle\n",
    "area = length * width\n",
    "\n",
    "# Display the result with two decimal places\n",
    "print(f\"The area of the rectangle is: {area:.2f}\")\n"
   ]
  },
  {
   "cell_type": "code",
   "execution_count": 11,
   "id": "27fb4129-e65d-49a3-9fff-a48ec4714c65",
   "metadata": {},
   "outputs": [],
   "source": [
    "# the % and print function"
   ]
  },
  {
   "cell_type": "code",
   "execution_count": 12,
   "id": "46be2cfd-d3db-4e4e-baaa-6afffcb4ea74",
   "metadata": {},
   "outputs": [
    {
     "name": "stdout",
     "output_type": "stream",
     "text": [
      "Enter the first number: 5\n",
      "Enter the second number: 6\n",
      "Enter the third number: 7\n",
      "The average of the three numbers is: 6.00\n"
     ]
    }
   ],
   "source": [
    "#Write a Python script that takes three numbers as input and prints their average using the % method for string formatting.\n",
    "#- Also, use the print function to display a message that states, \"The average of the three numbers is: [calculated average]\".\n",
    "# Prompt the user to enter three numbers\n",
    "num1 = float(input(\"Enter the first number: \"))\n",
    "num2 = float(input(\"Enter the second number: \"))\n",
    "num3 = float(input(\"Enter the third number: \"))\n",
    "\n",
    "# Calculate the average of the three numbers\n",
    "average = (num1 + num2 + num3) / 3\n",
    "\n",
    "# Display the result using % formatting\n",
    "print(\"The average of the three numbers is: %.2f\" % average)\n"
   ]
  },
  {
   "cell_type": "code",
   "execution_count": 13,
   "id": "fc3ec421-e740-4d5c-bf46-bb959f18ae7d",
   "metadata": {},
   "outputs": [],
   "source": [
    "# Part-3 language components"
   ]
  },
  {
   "cell_type": "code",
   "execution_count": 14,
   "id": "f3e65b44-c183-4668-b4b9-8944d862e6c1",
   "metadata": {},
   "outputs": [],
   "source": [
    "#control flow (if statement and loops)"
   ]
  },
  {
   "cell_type": "code",
   "execution_count": 15,
   "id": "c0ac5cee-8d7d-485f-9f4c-6ba085594349",
   "metadata": {},
   "outputs": [
    {
     "name": "stdout",
     "output_type": "stream",
     "text": [
      "Enter a number (or type 'exit' to quit): -1\n",
      "The number is negative.\n",
      "Enter a number (or type 'exit' to quit): 2\n",
      "The number is positive.\n",
      "Enter a number (or type 'exit' to quit): 0\n",
      "The number is zero.\n",
      "Enter a number (or type 'exit' to quit): exit\n"
     ]
    }
   ],
   "source": [
    "#Write a Python program that asks the user for a number and determines whether it is positive, negative, or zero.\n",
    "#- Implement a loop that continues to ask the user for a number until they enter 'exit'. \n",
    "#- Use break to exit the loop and continue to prompt for a new number if the input is not 'exit'.\n",
    "while True:\n",
    "    # Prompt the user for input\n",
    "    user_input = input(\"Enter a number (or type 'exit' to quit): \")\n",
    "\n",
    "    # Check if the user wants to exit the loop\n",
    "    if user_input.lower() == 'exit':\n",
    "        break\n",
    "\n",
    "    # Try to convert the input to a number\n",
    "    try:\n",
    "        number = float(user_input)\n",
    "    except ValueError:\n",
    "        print(\"Invalid input. Please enter a number or type 'exit' to quit.\")\n",
    "        continue\n",
    "\n",
    "    # Determine if the number is positive, negative, or zero\n",
    "    if number > 0:\n",
    "        print(\"The number is positive.\")\n",
    "    elif number < 0:\n",
    "        print(\"The number is negative.\")\n",
    "    else:\n",
    "        print(\"The number is zero.\")\n"
   ]
  },
  {
   "cell_type": "code",
   "execution_count": 16,
   "id": "ce40b93d-f2e6-433a-bcc9-54543ab71cc0",
   "metadata": {},
   "outputs": [],
   "source": [
    "# relational and logical operations "
   ]
  },
  {
   "cell_type": "code",
   "execution_count": 17,
   "id": "cacbf6dc-0b0f-4a22-abdb-a469bb7c3dfa",
   "metadata": {},
   "outputs": [
    {
     "name": "stdout",
     "output_type": "stream",
     "text": [
      "Enter the first number: 5\n",
      "Enter the second number: 6\n",
      "One number is even and the other is odd.\n"
     ]
    }
   ],
   "source": [
    "#Create a Python script that takes two numbers as input and prints whether both numbers are even, odd, or one of each using relational and logical operators.\n",
    "# Prompt the user to enter two numbers\n",
    "num1 = int(input(\"Enter the first number: \"))\n",
    "num2 = int(input(\"Enter the second number: \"))\n",
    "\n",
    "# Determine if each number is even or odd\n",
    "num1_is_even = (num1 % 2 == 0)\n",
    "num2_is_even = (num2 % 2 == 0)\n",
    "\n",
    "# Determine the relationship between the two numbers\n",
    "if num1_is_even and num2_is_even:\n",
    "    print(\"Both numbers are even.\")\n",
    "elif not num1_is_even and not num2_is_even:\n",
    "    print(\"Both numbers are odd.\")\n",
    "else:\n",
    "    print(\"One number is even and the other is odd.\")\n"
   ]
  },
  {
   "cell_type": "code",
   "execution_count": 18,
   "id": "175a700f-a21d-43f1-9804-ba67e8d462e4",
   "metadata": {},
   "outputs": [],
   "source": [
    "# for loop and bitwise operators"
   ]
  },
  {
   "cell_type": "code",
   "execution_count": 19,
   "id": "0280c6f7-f25e-4b96-aa51-86856365f40a",
   "metadata": {},
   "outputs": [
    {
     "name": "stdout",
     "output_type": "stream",
     "text": [
      "Enter an integer: 5\n",
      "Binary equivalent: 101\n",
      "Octal equivalent: 5\n",
      "Hexadecimal equivalent: 5\n"
     ]
    }
   ],
   "source": [
    "#Write a Python program that takes an integer input and prints its binary, octal, and hexadecimal equivalents using a for loop and bitwise operators.\n",
    "def int_to_binary(n):\n",
    "    if n == 0:\n",
    "        return '0'\n",
    "    binary = ''\n",
    "    while n > 0:\n",
    "        binary = str(n & 1) + binary\n",
    "        n >>= 1\n",
    "    return binary\n",
    "\n",
    "def int_to_octal(n):\n",
    "    if n == 0:\n",
    "        return '0'\n",
    "    octal = ''\n",
    "    while n > 0:\n",
    "        octal = str(n & 7) + octal\n",
    "        n >>= 3\n",
    "    return octal\n",
    "\n",
    "def int_to_hexadecimal(n):\n",
    "    if n == 0:\n",
    "        return '0'\n",
    "    hex_chars = '0123456789ABCDEF'\n",
    "    hexadecimal = ''\n",
    "    while n > 0:\n",
    "        hexadecimal = hex_chars[n & 15] + hexadecimal\n",
    "        n >>= 4\n",
    "    return hexadecimal\n",
    "\n",
    "# Prompt the user to enter an integer\n",
    "number = int(input(\"Enter an integer: \"))\n",
    "\n",
    "# Print binary, octal, and hexadecimal equivalents\n",
    "print(\"Binary equivalent:\", int_to_binary(number))\n",
    "print(\"Octal equivalent:\", int_to_octal(number))\n",
    "print(\"Hexadecimal equivalent:\", int_to_hexadecimal(number))\n"
   ]
  },
  {
   "cell_type": "code",
   "execution_count": null,
   "id": "a2db718b-4bf9-463e-a90b-f740c7b1177a",
   "metadata": {},
   "outputs": [],
   "source": []
  }
 ],
 "metadata": {
  "kernelspec": {
   "display_name": "Python 3 (ipykernel)",
   "language": "python",
   "name": "python3"
  },
  "language_info": {
   "codemirror_mode": {
    "name": "ipython",
    "version": 3
   },
   "file_extension": ".py",
   "mimetype": "text/x-python",
   "name": "python",
   "nbconvert_exporter": "python",
   "pygments_lexer": "ipython3",
   "version": "3.11.5"
  }
 },
 "nbformat": 4,
 "nbformat_minor": 5
}
